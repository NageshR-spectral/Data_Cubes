{
 "cells": [
  {
   "cell_type": "code",
   "execution_count": 1,
   "metadata": {},
   "outputs": [
    {
     "name": "stdout",
     "output_type": "stream",
     "text": [
      "Name: SQLAlchemy\n",
      "Version: 2.0.25\n",
      "Summary: Database Abstraction Library\n",
      "Home-page: https://www.sqlalchemy.org\n",
      "Author: Mike Bayer\n",
      "Author-email: mike_mp@zzzcomputing.com\n",
      "License: MIT\n",
      "Location: c:\\users\\nagesh\\anaconda3\\envs\\cubes\\lib\\site-packages\n",
      "Requires: greenlet, typing-extensions\n",
      "Required-by: \n",
      "Note: you may need to restart the kernel to use updated packages.\n"
     ]
    }
   ],
   "source": [
    "pip show sqlalchemy"
   ]
  },
  {
   "cell_type": "code",
   "execution_count": 2,
   "metadata": {},
   "outputs": [
    {
     "name": "stdout",
     "output_type": "stream",
     "text": [
      "Requirement already satisfied: sqlalchemy in c:\\users\\nagesh\\anaconda3\\envs\\cubes\\lib\\site-packages (2.0.25)\n",
      "Requirement already satisfied: typing-extensions>=4.6.0 in c:\\users\\nagesh\\anaconda3\\envs\\cubes\\lib\\site-packages (from sqlalchemy) (4.9.0)\n",
      "Requirement already satisfied: greenlet!=0.4.17 in c:\\users\\nagesh\\anaconda3\\envs\\cubes\\lib\\site-packages (from sqlalchemy) (3.0.3)\n"
     ]
    }
   ],
   "source": [
    "!pip install sqlalchemy"
   ]
  },
  {
   "cell_type": "code",
   "execution_count": 3,
   "metadata": {},
   "outputs": [
    {
     "name": "stdout",
     "output_type": "stream",
     "text": [
      "Requirement already satisfied: cubes[all] in c:\\users\\nagesh\\anaconda3\\envs\\cubes\\lib\\site-packages (1.1)\n",
      "Requirement already satisfied: python-dateutil in c:\\users\\nagesh\\anaconda3\\envs\\cubes\\lib\\site-packages (from cubes[all]) (2.8.2)\n",
      "Requirement already satisfied: jsonschema in c:\\users\\nagesh\\anaconda3\\envs\\cubes\\lib\\site-packages (from cubes[all]) (4.20.0)\n",
      "Requirement already satisfied: expressions>=0.2.3 in c:\\users\\nagesh\\anaconda3\\envs\\cubes\\lib\\site-packages (from cubes[all]) (0.2.3)\n",
      "Requirement already satisfied: grako>=3.9.3 in c:\\users\\nagesh\\anaconda3\\envs\\cubes\\lib\\site-packages (from expressions>=0.2.3->cubes[all]) (3.99.9)\n",
      "Collecting jinja (from cubes[all])\n",
      "  Using cached Jinja-1.2.tar.gz (252 kB)\n",
      "  Preparing metadata (setup.py): started\n",
      "  Preparing metadata (setup.py): finished with status 'error'\n"
     ]
    },
    {
     "name": "stderr",
     "output_type": "stream",
     "text": [
      "  error: subprocess-exited-with-error\n",
      "  \n",
      "  × python setup.py egg_info did not run successfully.\n",
      "  │ exit code: 1\n",
      "  ╰─> [7 lines of output]\n",
      "      Traceback (most recent call last):\n",
      "        File \"<string>\", line 2, in <module>\n",
      "        File \"<pip-setuptools-caller>\", line 34, in <module>\n",
      "        File \"C:\\Users\\Nagesh\\AppData\\Local\\Temp\\pip-install-26w2om3f\\jinja_9bd8e5acff1541c48b80d62d19bd5818\\setup.py\", line 28\n",
      "          except DistutilsError, e:\n",
      "                               ^\n",
      "      SyntaxError: invalid syntax\n",
      "      [end of output]\n",
      "  \n",
      "  note: This error originates from a subprocess, and is likely not a problem with pip.\n",
      "error: metadata-generation-failed\n",
      "\n",
      "× Encountered error while generating package metadata.\n",
      "╰─> See above for output.\n",
      "\n",
      "note: This is an issue with the package mentioned above, not pip.\n",
      "hint: See above for details.\n"
     ]
    }
   ],
   "source": [
    "!pip install cubes[all]"
   ]
  },
  {
   "cell_type": "code",
   "execution_count": 4,
   "metadata": {},
   "outputs": [],
   "source": [
    "from sqlalchemy import create_engine\n",
    "from cubes.tutorial.sql import create_table_from_csv"
   ]
  },
  {
   "cell_type": "code",
   "execution_count": 5,
   "metadata": {},
   "outputs": [],
   "source": [
    "engine = create_engine('sqlite:///data.sqlite')"
   ]
  },
  {
   "cell_type": "code",
   "execution_count": 10,
   "metadata": {},
   "outputs": [],
   "source": [
    "import sqlalchemy\n",
    "\n",
    "def create_table_from_csv(connectable, file_name, table_name, fields, create_id=False, schema=None):\n",
    "    # Create a MetaData object without the 'bind' argument\n",
    "    metadata = sqlalchemy.MetaData()\n",
    "\n",
    "    # Create the Table object without the 'bind' argument\n",
    "    table = sqlalchemy.Table(table_name, metadata, schema=schema)\n",
    "\n",
    "    # Bind the table to the engine using the 'bind' method\n",
    "    table.bind = connectable\n",
    "\n",
    "    # Rest of your code...\n",
    "\n",
    "# The rest of your code remains unchanged\n",
    "create_table_from_csv(engine,\n",
    "                      \"IBRD_Balance_Sheet__FY2010.csv\",\n",
    "                      table_name=\"ibrd_balance\",\n",
    "                      fields=[\n",
    "                          (\"category\", \"string\"),\n",
    "                          (\"category_label\", \"string\"),\n",
    "                          (\"subcategory\", \"string\"),\n",
    "                          (\"subcategory_label\", \"string\"),\n",
    "                          (\"line_item\", \"string\"),\n",
    "                          (\"year\", \"integer\"),\n",
    "                          (\"amount\", \"integer\")],\n",
    "                      create_id=True\n",
    "                  )\n"
   ]
  },
  {
   "cell_type": "code",
   "execution_count": 11,
   "metadata": {},
   "outputs": [],
   "source": [
    "from cubes import Workspace\n",
    "workspace = Workspace()\n",
    "workspace.register_default_store(\"sql\", url=\"sqlite:///data.sqlite\")"
   ]
  },
  {
   "cell_type": "code",
   "execution_count": 13,
   "metadata": {},
   "outputs": [],
   "source": [
    "workspace.import_model(\"model.json\")"
   ]
  },
  {
   "cell_type": "code",
   "execution_count": 14,
   "metadata": {},
   "outputs": [
    {
     "ename": "TypeError",
     "evalue": "__init__() got an unexpected keyword argument 'bind'",
     "output_type": "error",
     "traceback": [
      "\u001b[1;31m---------------------------------------------------------------------------\u001b[0m",
      "\u001b[1;31mTypeError\u001b[0m                                 Traceback (most recent call last)",
      "Cell \u001b[1;32mIn[14], line 1\u001b[0m\n\u001b[1;32m----> 1\u001b[0m browser \u001b[38;5;241m=\u001b[39m \u001b[43mworkspace\u001b[49m\u001b[38;5;241;43m.\u001b[39;49m\u001b[43mbrowser\u001b[49m\u001b[43m(\u001b[49m\u001b[38;5;124;43m\"\u001b[39;49m\u001b[38;5;124;43mirbd_balance\u001b[39;49m\u001b[38;5;124;43m\"\u001b[39;49m\u001b[43m)\u001b[49m\n",
      "File \u001b[1;32mc:\\Users\\Nagesh\\anaconda3\\envs\\cubes\\lib\\site-packages\\cubes\\workspace.py:608\u001b[0m, in \u001b[0;36mWorkspace.browser\u001b[1;34m(self, cube, locale, identity)\u001b[0m\n\u001b[0;32m    606\u001b[0m     store_info \u001b[38;5;241m=\u001b[39m store\u001b[38;5;241m.\u001b[39moptions \u001b[38;5;129;01mor\u001b[39;00m {}\n\u001b[0;32m    607\u001b[0m \u001b[38;5;28;01melse\u001b[39;00m:\n\u001b[1;32m--> 608\u001b[0m     store \u001b[38;5;241m=\u001b[39m \u001b[38;5;28;43mself\u001b[39;49m\u001b[38;5;241;43m.\u001b[39;49m\u001b[43mget_store\u001b[49m\u001b[43m(\u001b[49m\u001b[38;5;124;43m\"\u001b[39;49m\u001b[38;5;124;43mdefault\u001b[39;49m\u001b[38;5;124;43m\"\u001b[39;49m\u001b[43m)\u001b[49m\n\u001b[0;32m    609\u001b[0m     store_info \u001b[38;5;241m=\u001b[39m store\u001b[38;5;241m.\u001b[39moptions \u001b[38;5;129;01mor\u001b[39;00m {}\n\u001b[0;32m    611\u001b[0m store_type \u001b[38;5;241m=\u001b[39m store\u001b[38;5;241m.\u001b[39mstore_type\n",
      "File \u001b[1;32mc:\\Users\\Nagesh\\anaconda3\\envs\\cubes\\lib\\site-packages\\cubes\\workspace.py:663\u001b[0m, in \u001b[0;36mWorkspace.get_store\u001b[1;34m(self, name)\u001b[0m\n\u001b[0;32m    660\u001b[0m     \u001b[38;5;28;01mraise\u001b[39;00m ConfigurationError(\u001b[38;5;124m\"\u001b[39m\u001b[38;5;124mUnknown store \u001b[39m\u001b[38;5;124m'\u001b[39m\u001b[38;5;132;01m{}\u001b[39;00m\u001b[38;5;124m'\u001b[39m\u001b[38;5;124m\"\u001b[39m\u001b[38;5;241m.\u001b[39mformat(name))\n\u001b[0;32m    662\u001b[0m \u001b[38;5;66;03m# TODO: temporary hack to pass store name and store type\u001b[39;00m\n\u001b[1;32m--> 663\u001b[0m store \u001b[38;5;241m=\u001b[39m \u001b[43mext\u001b[49m\u001b[38;5;241;43m.\u001b[39;49m\u001b[43mstore\u001b[49m\u001b[43m(\u001b[49m\u001b[43mtype_\u001b[49m\u001b[43m,\u001b[49m\u001b[43m \u001b[49m\u001b[43mstore_type\u001b[49m\u001b[38;5;241;43m=\u001b[39;49m\u001b[43mtype_\u001b[49m\u001b[43m,\u001b[49m\u001b[43m \u001b[49m\u001b[38;5;241;43m*\u001b[39;49m\u001b[38;5;241;43m*\u001b[39;49m\u001b[43moptions\u001b[49m\u001b[43m)\u001b[49m\n\u001b[0;32m    664\u001b[0m \u001b[38;5;28mself\u001b[39m\u001b[38;5;241m.\u001b[39mstores[name] \u001b[38;5;241m=\u001b[39m store\n\u001b[0;32m    665\u001b[0m \u001b[38;5;28;01mreturn\u001b[39;00m store\n",
      "File \u001b[1;32mc:\\Users\\Nagesh\\anaconda3\\envs\\cubes\\lib\\site-packages\\cubes\\ext.py:225\u001b[0m, in \u001b[0;36mExtensionFinder.__call__\u001b[1;34m(self, _ext_name, *args, **kwargs)\u001b[0m\n\u001b[0;32m    224\u001b[0m \u001b[38;5;28;01mdef\u001b[39;00m \u001b[38;5;21m__call__\u001b[39m(\u001b[38;5;28mself\u001b[39m, _ext_name, \u001b[38;5;241m*\u001b[39margs, \u001b[38;5;241m*\u001b[39m\u001b[38;5;241m*\u001b[39mkwargs):\n\u001b[1;32m--> 225\u001b[0m     \u001b[38;5;28;01mreturn\u001b[39;00m \u001b[38;5;28;43mself\u001b[39;49m\u001b[38;5;241;43m.\u001b[39;49m\u001b[43mcreate\u001b[49m\u001b[43m(\u001b[49m\u001b[43m_ext_name\u001b[49m\u001b[43m,\u001b[49m\u001b[43m \u001b[49m\u001b[38;5;241;43m*\u001b[39;49m\u001b[43margs\u001b[49m\u001b[43m,\u001b[49m\u001b[43m \u001b[49m\u001b[38;5;241;43m*\u001b[39;49m\u001b[38;5;241;43m*\u001b[39;49m\u001b[43mkwargs\u001b[49m\u001b[43m)\u001b[49m\n",
      "File \u001b[1;32mc:\\Users\\Nagesh\\anaconda3\\envs\\cubes\\lib\\site-packages\\cubes\\ext.py:244\u001b[0m, in \u001b[0;36mExtensionFinder.create\u001b[1;34m(self, _ext_name, *args, **kwargs)\u001b[0m\n\u001b[0;32m    238\u001b[0m \u001b[38;5;250m\u001b[39m\u001b[38;5;124;03m\"\"\"Create an instance of extension `_ext_name` with given arguments.\u001b[39;00m\n\u001b[0;32m    239\u001b[0m \u001b[38;5;124;03mThe keyword arguments are converted to their appropriate types\u001b[39;00m\n\u001b[0;32m    240\u001b[0m \u001b[38;5;124;03maccording to extensions `__options__` list. This allows options to be\u001b[39;00m\n\u001b[0;32m    241\u001b[0m \u001b[38;5;124;03mspecified as strings in a configuration files or configuration\u001b[39;00m\n\u001b[0;32m    242\u001b[0m \u001b[38;5;124;03mvariables.\"\"\"\u001b[39;00m\n\u001b[0;32m    243\u001b[0m ext \u001b[38;5;241m=\u001b[39m \u001b[38;5;28mself\u001b[39m\u001b[38;5;241m.\u001b[39mget(_ext_name)\n\u001b[1;32m--> 244\u001b[0m \u001b[38;5;28;01mreturn\u001b[39;00m \u001b[43mext\u001b[49m\u001b[38;5;241;43m.\u001b[39;49m\u001b[43mcreate\u001b[49m\u001b[43m(\u001b[49m\u001b[38;5;241;43m*\u001b[39;49m\u001b[43margs\u001b[49m\u001b[43m,\u001b[49m\u001b[43m \u001b[49m\u001b[38;5;241;43m*\u001b[39;49m\u001b[38;5;241;43m*\u001b[39;49m\u001b[43mkwargs\u001b[49m\u001b[43m)\u001b[49m\n",
      "File \u001b[1;32mc:\\Users\\Nagesh\\anaconda3\\envs\\cubes\\lib\\site-packages\\cubes\\ext.py:166\u001b[0m, in \u001b[0;36m_Extension.create\u001b[1;34m(self, *args, **kwargs)\u001b[0m\n\u001b[0;32m    161\u001b[0m factory \u001b[38;5;241m=\u001b[39m \u001b[38;5;28mself\u001b[39m\u001b[38;5;241m.\u001b[39mfactory\n\u001b[0;32m    163\u001b[0m kwargs \u001b[38;5;241m=\u001b[39m coalesce_options(\u001b[38;5;28mdict\u001b[39m(kwargs),\n\u001b[0;32m    164\u001b[0m                           \u001b[38;5;28mself\u001b[39m\u001b[38;5;241m.\u001b[39moption_types)\n\u001b[1;32m--> 166\u001b[0m \u001b[38;5;28;01mreturn\u001b[39;00m \u001b[43mfactory\u001b[49m\u001b[43m(\u001b[49m\u001b[38;5;241;43m*\u001b[39;49m\u001b[43margs\u001b[49m\u001b[43m,\u001b[49m\u001b[43m \u001b[49m\u001b[38;5;241;43m*\u001b[39;49m\u001b[38;5;241;43m*\u001b[39;49m\u001b[43mkwargs\u001b[49m\u001b[43m)\u001b[49m\n",
      "File \u001b[1;32mc:\\Users\\Nagesh\\anaconda3\\envs\\cubes\\lib\\site-packages\\cubes\\sql\\store.py:179\u001b[0m, in \u001b[0;36mSQLStore.__init__\u001b[1;34m(self, url, engine, metadata, **options)\u001b[0m\n\u001b[0;32m    177\u001b[0m     \u001b[38;5;28mself\u001b[39m\u001b[38;5;241m.\u001b[39mmetadata \u001b[38;5;241m=\u001b[39m metadata\n\u001b[0;32m    178\u001b[0m \u001b[38;5;28;01melse\u001b[39;00m:\n\u001b[1;32m--> 179\u001b[0m     \u001b[38;5;28mself\u001b[39m\u001b[38;5;241m.\u001b[39mmetadata \u001b[38;5;241m=\u001b[39m \u001b[43msa\u001b[49m\u001b[38;5;241;43m.\u001b[39;49m\u001b[43mMetaData\u001b[49m\u001b[43m(\u001b[49m\u001b[43mbind\u001b[49m\u001b[38;5;241;43m=\u001b[39;49m\u001b[38;5;28;43mself\u001b[39;49m\u001b[38;5;241;43m.\u001b[39;49m\u001b[43mconnectable\u001b[49m\u001b[43m,\u001b[49m\n\u001b[0;32m    180\u001b[0m \u001b[43m                                \u001b[49m\u001b[43mschema\u001b[49m\u001b[38;5;241;43m=\u001b[39;49m\u001b[38;5;28;43mself\u001b[39;49m\u001b[38;5;241;43m.\u001b[39;49m\u001b[43mschema\u001b[49m\u001b[43m)\u001b[49m\n",
      "\u001b[1;31mTypeError\u001b[0m: __init__() got an unexpected keyword argument 'bind'"
     ]
    }
   ],
   "source": [
    "browser = workspace.browser(\"irbd_balance\")"
   ]
  },
  {
   "cell_type": "markdown",
   "metadata": {},
   "source": [
    "# Using PyCubes"
   ]
  },
  {
   "cell_type": "code",
   "execution_count": null,
   "metadata": {},
   "outputs": [],
   "source": [
    "%pip install pycubes"
   ]
  },
  {
   "cell_type": "code",
   "execution_count": null,
   "metadata": {},
   "outputs": [],
   "source": [
    "%pip show pucubes"
   ]
  },
  {
   "cell_type": "code",
   "execution_count": null,
   "metadata": {},
   "outputs": [],
   "source": [
    "from pycubes import Dimension, Hierarchy\n",
    "\n",
    "# Define dimensions\n",
    "time = Dimension(\"Time\", levels=[\"Year\", \"Quarter\", \"Month\"])\n",
    "product = Dimension(\"Product\", levels=[\"Category\", \"Subcategory\"])\n"
   ]
  },
  {
   "cell_type": "code",
   "execution_count": null,
   "metadata": {},
   "outputs": [],
   "source": [
    "from pycubes import PointCut, Cell, Cube\n",
    "\n",
    "# Define the cube\n",
    "cube = Cube(\"SalesCube\", dimensions=[time, product])\n",
    "\n",
    "# Add a measure\n",
    "cube.add_edge([\"Revenue\", \"Amount\"])\n"
   ]
  },
  {
   "cell_type": "code",
   "execution_count": null,
   "metadata": {},
   "outputs": [],
   "source": [
    "# Load data into the cube\n",
    "data = {\n",
    "    (2019, \"Q1\", \"Laptops\", \"Gaming\"): {\"Revenue\": 500000},\n",
    "    (2019, \"Q2\", \"Laptops\", \"Gaming\"): {\"Revenue\": 550000},\n",
    "    # Add more data points...\n",
    "}\n",
    "\n",
    "for point, values in data.items():\n",
    "    cell = Cell(cube, PointCut(cube, **dict(zip(cube.dimension_names, point))))\n",
    "    cell.data.update(values)"
   ]
  },
  {
   "cell_type": "code",
   "execution_count": null,
   "metadata": {},
   "outputs": [],
   "source": [
    "# Aggregate data\n",
    "cube.aggregate()\n"
   ]
  },
  {
   "cell_type": "code",
   "execution_count": null,
   "metadata": {},
   "outputs": [],
   "source": [
    "# Query the cube\n",
    "result = cube.query(\n",
    "    drilldown=[\"Time.Year\", \"Product.Category\"],\n",
    "    cuts=[(\"Time.Year\", \"2019\")]\n",
    ")\n",
    "\n",
    "for cell in result.cells:\n",
    "    print(cell, cell.data)\n"
   ]
  },
  {
   "cell_type": "code",
   "execution_count": null,
   "metadata": {},
   "outputs": [],
   "source": []
  },
  {
   "cell_type": "code",
   "execution_count": null,
   "metadata": {},
   "outputs": [],
   "source": []
  }
 ],
 "metadata": {
  "kernelspec": {
   "display_name": "cubes",
   "language": "python",
   "name": "python3"
  },
  "language_info": {
   "codemirror_mode": {
    "name": "ipython",
    "version": 3
   },
   "file_extension": ".py",
   "mimetype": "text/x-python",
   "name": "python",
   "nbconvert_exporter": "python",
   "pygments_lexer": "ipython3",
   "version": "3.8.18"
  }
 },
 "nbformat": 4,
 "nbformat_minor": 2
}
